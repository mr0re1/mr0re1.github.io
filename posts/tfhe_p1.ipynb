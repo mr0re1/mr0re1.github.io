{
 "cells": [
  {
   "cell_type": "markdown",
   "id": "08dddf3d",
   "metadata": {},
   "source": [
    "Walkthrough of [Guide to Fully Homomorphic Encryption over the [Discretized] Torus](https://eprint.iacr.org/2021/1402) by Marc Joye. Part 1."
   ]
  },
  {
   "cell_type": "markdown",
   "id": "1221d838",
   "metadata": {},
   "source": [
    "# 1.1 Torus and Torus Polynomials\n",
    "\n",
    "*Example 1.* Take for example $a = \\frac{2}{5}, b = \\frac{4}{5}$ and $c = \\frac{1}{3}$.\n",
    "\n",
    "Over $\\mathbb{T}$, we get \n",
    "\n",
    "$(a + b) \\times c = \\frac{1}{5} \\times \\frac{1}{3} = \\frac{1}{15}$ and \n",
    "\n",
    "$a \\times c + b \\times c = \\frac{2}{15} + \\frac{4}{15} = \\frac{6}{15} = \\frac{2}{5}$, a contradiction."
   ]
  },
  {
   "cell_type": "code",
   "execution_count": 112,
   "id": "41506071",
   "metadata": {},
   "outputs": [
    {
     "name": "stdout",
     "output_type": "stream",
     "text": [
      "1/15 != 2/5\n"
     ]
    }
   ],
   "source": [
    "class T(Fraction): # represents the element of thorus\n",
    "    def __new__(cls, n, d):\n",
    "        return super().__new__(cls, n % d, d)\n",
    "    \n",
    "    def __add__(self, other):  # addition\n",
    "        f = Fraction.__add__(self, other)\n",
    "        return T(f.numerator, f.denominator)\n",
    "    \n",
    "    def dot(self, n): # external product\n",
    "        return T(n * self.numerator, self.denominator)\n",
    "\n",
    "    \n",
    "a = T(2, 5)\n",
    "b = T(4, 5)\n",
    "c = T(1, 3)\n",
    "\n",
    "# NOTE: * - is internal product, wich IS NOT DEFINED on T. \n",
    "# To perform it we move elements to real numbers (represented by Fraction)\n",
    "\n",
    "print((a + b) * c, \"!=\", # (𝑎+𝑏)×𝑐\n",
    "      (a * c) + (b * c)) # 𝑎×𝑐+𝑏×𝑐"
   ]
  },
  {
   "cell_type": "markdown",
   "id": "28d42c19",
   "metadata": {},
   "source": [
    "*Example 2.* Take $k = 2, l = 3, a = \\frac{2}{5}$ and $b = \\frac{4}{5}$. \n",
    "\n",
    "We get\n",
    "$(k + l) \\cdot a = 5 \\cdot \\frac{2}{5} = 0$ and \n",
    "$k \\cdot a + l \\cdot a = \\frac{4}{5} + \\frac{1}{5} = 0$, as expected. \n",
    "\n",
    "We also get \n",
    "$k \\cdot (a + b) = 2 \\cdot \\frac{1}{5} = \\frac{2}{5}$ and \n",
    "$k \\cdot a + k \\cdot b = \\frac{4}{5} + \\frac{3}{5} = \\frac{2}{5}$. \n",
    "\n",
    "Finally, taking \n",
    "$t = a = \\frac{2}{5}$, we get \n",
    "$k \\cdot (l \\cdot t) = 2 \\cdot \\frac{1}{5} = \\frac{2}{5}$ and\n",
    "$(kl) \\cdot t = 6 \\cdot \\frac{2}{5} = \\frac{2}{5}$, as expected."
   ]
  },
  {
   "cell_type": "code",
   "execution_count": 113,
   "id": "1d9c6f37",
   "metadata": {},
   "outputs": [
    {
     "name": "stdout",
     "output_type": "stream",
     "text": [
      "0 = 0\n",
      "2/5 = 2/5\n",
      "2/5 = 2/5\n"
     ]
    }
   ],
   "source": [
    "k = 2\n",
    "l = 3\n",
    "t = a = T(2, 5)\n",
    "b = T(4, 5)\n",
    "\n",
    "print(\n",
    "  a.dot(k + l), \"=\",   # (𝑘+𝑙)⋅𝑎\n",
    "  a.dot(k) + a.dot(l)) # 𝑘⋅𝑎+𝑙⋅𝑎\n",
    "print(\n",
    "  (a + b).dot(k), \"=\", # 𝑘⋅(𝑎+𝑏)\n",
    "  a.dot(k) + b.dot(k)) # 𝑘⋅𝑎+𝑘⋅𝑏\n",
    "print(\n",
    "  t.dot(l).dot(k), \"=\",# 𝑘⋅(𝑙⋅𝑡)\n",
    "  t.dot(l * k))        # (𝑘𝑙)⋅𝑡"
   ]
  },
  {
   "cell_type": "markdown",
   "id": "f3e6963b",
   "metadata": {},
   "source": [
    "*Example 3.* Take for example \n",
    "$\\mathscr{p}(X) = \\frac{2}{5}X + \\frac{1}{3}$,\n",
    "$\\mathscr{q}(X) = \\frac{4}{5}X + \\frac{1}{2}$, and \n",
    "$\\mathscr{r}(X) = 2X + 7$.\n",
    "\n",
    "Then $(\\mathscr{p} + \\mathscr{q})(X) = \\frac{1}{5}X + \\frac{5}{6}$"
   ]
  },
  {
   "cell_type": "code",
   "execution_count": 105,
   "id": "61799b75",
   "metadata": {},
   "outputs": [
    {
     "name": "stdout",
     "output_type": "stream",
     "text": [
      "5/6 1/5\n"
     ]
    }
   ],
   "source": [
    "p = (T(1, 3), T(2, 5)) # 1/3 + 2/5X\n",
    "q = (T(1, 2), T(4, 5)) # 1/2 + 4/5X\n",
    "r = (7, 2)             #   7 + 2X\n",
    "\n",
    "print(p[0] + q[0], p[1] + q[1]) # p + q"
   ]
  },
  {
   "cell_type": "markdown",
   "id": "949c4aec",
   "metadata": {},
   "source": [
    "and\n",
    "\n",
    "$(\\mathscr{r} \\cdot \\mathscr{p})(X) = \\frac{4}{5}X^2 + \\frac{7}{15}X + \\frac{1}{3} = ...$"
   ]
  },
  {
   "cell_type": "code",
   "execution_count": 118,
   "id": "ae8e599a",
   "metadata": {},
   "outputs": [
    {
     "name": "stdout",
     "output_type": "stream",
     "text": [
      "1/3 7/15 4/5\n"
     ]
    }
   ],
   "source": [
    "t = [T(0, 1)] * 3 # 0 + 0X + 0X^2\n",
    "\n",
    "for i in range(2):\n",
    "    for j in range(2):\n",
    "        t[i + j] += p[i].dot(r[j])\n",
    "print(*t)"
   ]
  },
  {
   "cell_type": "markdown",
   "id": "068b982d",
   "metadata": {},
   "source": [
    "$...= -\\frac{4}{5} + \\frac{7}{15}X + \\frac{1}{3} = \\frac{7}{15}X + \\frac{8}{15}$\n",
    "\n",
    "Recall that polynomials are defined modulo\n",
    "$X^2 + 1$ (and thus $X^2 ≡ −1$)."
   ]
  },
  {
   "cell_type": "code",
   "execution_count": 120,
   "id": "12ebe1f6",
   "metadata": {},
   "outputs": [
    {
     "name": "stdout",
     "output_type": "stream",
     "text": [
      "8/15 7/15\n"
     ]
    }
   ],
   "source": [
    "print(t[0] + t[2].dot(-1), t[1])"
   ]
  },
  {
   "cell_type": "markdown",
   "id": "a0a6ecc6",
   "metadata": {},
   "source": [
    "# 1.2 Discretized Torus  (+Jaxite)\n",
    "\n",
    "Later in this walkthrough, instead of implementing it from scratch, I am going to use [Jaxite](https://github.com/google/jaxite), an FHE library by Google.\n",
    "\n",
    "Let's compute the $(\\mathscr{r} \\cdot \\mathscr{p})(X)$ from *Example 3* using Jaxite.\n",
    "\n",
    "For practical reasons, thorus elements are not represented with fractions, but rather\n",
    "as integers modulo $q$. \n",
    "\n",
    "Consider  $\\mathscr{p}(X) = \\frac{2}{5}X + \\frac{1}{3}$ from $\\mathbb{T}_2[X]$,\n",
    "\n",
    "it can be represented as $\\mathscr{\\overline{p}}(X) = 6X + 5$ in $\\mathbb{Z}_{{2},{15}}[X]$, and\n",
    "\n",
    "$(\\mathscr{r} \\cdot \\mathscr{\\overline{p}})(X) = 7X + 8$ in $\\mathbb{Z}_{{2},{15}}[X]$."
   ]
  },
  {
   "cell_type": "code",
   "execution_count": 133,
   "id": "37ad7d81",
   "metadata": {},
   "outputs": [
    {
     "name": "stdout",
     "output_type": "stream",
     "text": [
      "[8 7]\n"
     ]
    }
   ],
   "source": [
    "import jax.numpy as jnp\n",
    "from jaxite.jaxite_lib.matrix_utils import poly_mul\n",
    "\n",
    "p = jnp.array([5, 6]) # in Z_{2,15}[X]\n",
    "r = jnp.array([7, 2]) # in Z[X]\n",
    "# poly_mul will account for modulo (X^2 + 1), but not for modulo 15, do it manually\n",
    "print(poly_mul(r, p) % 15)"
   ]
  },
  {
   "cell_type": "markdown",
   "id": "bf8bcddb",
   "metadata": {},
   "source": [
    "# 1.3 Notation\n",
    "\n",
    "_Example 5._ The vector $\\pmb{\\mathcal{v}} = (\\pmb{3}, \\pmb{4}) \\in \\mathbb{Z}^2$\n",
    "is regarded as the row matrix \n",
    "$\\begin{pmatrix} 3 & 4 \\end{pmatrix} \\in \\mathbb{Z}^{1 \\times 2}$, and\n",
    "if \n",
    "$\\pmb{A} = \\begin{pmatrix} 1 & 2 \\\\ 0 & 1 \\end{pmatrix}$ then \n",
    "$\\pmb{\\mathcal{v}A} = \\begin{pmatrix} 3 & 10 \\end{pmatrix} = (\\pmb{3}, \\pmb{10})$"
   ]
  },
  {
   "cell_type": "code",
   "execution_count": 140,
   "id": "2ce33861",
   "metadata": {},
   "outputs": [
    {
     "name": "stdout",
     "output_type": "stream",
     "text": [
      "[[ 3 10]]\n"
     ]
    }
   ],
   "source": [
    "v = jnp.array([[3, 4]]) \n",
    "A = jnp.array([[1, 2], [0, 1]])\n",
    "print(jnp.matmul(v, A))"
   ]
  }
 ],
 "metadata": {
  "kernelspec": {
   "display_name": "Python 3 (ipykernel)",
   "language": "python",
   "name": "python3"
  },
  "language_info": {
   "codemirror_mode": {
    "name": "ipython",
    "version": 3
   },
   "file_extension": ".py",
   "mimetype": "text/x-python",
   "name": "python",
   "nbconvert_exporter": "python",
   "pygments_lexer": "ipython3",
   "version": "3.11.3"
  }
 },
 "nbformat": 4,
 "nbformat_minor": 5
}
